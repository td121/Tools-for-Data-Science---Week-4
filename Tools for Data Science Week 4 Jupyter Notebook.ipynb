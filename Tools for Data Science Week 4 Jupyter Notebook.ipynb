{
  "metadata": {
    "kernelspec": {
      "name": "python",
      "display_name": "Pyolite",
      "language": "python"
    },
    "language_info": {
      "codemirror_mode": {
        "name": "python",
        "version": 3
      },
      "file_extension": ".py",
      "mimetype": "text/x-python",
      "name": "python",
      "nbconvert_exporter": "python",
      "pygments_lexer": "ipython3",
      "version": "3.8"
    }
  },
  "nbformat_minor": 4,
  "nbformat": 4,
  "cells": [
    {
      "cell_type": "markdown",
      "source": "# My Jupyter Notebook",
      "metadata": {}
    },
    {
      "cell_type": "markdown",
      "source": "#### Tong Ding",
      "metadata": {}
    },
    {
      "cell_type": "markdown",
      "source": "....",
      "metadata": {}
    },
    {
      "cell_type": "markdown",
      "source": "I am interested in data science._",
      "metadata": {}
    },
    {
      "cell_type": "markdown",
      "source": "### The following code tests the Gauss formula",
      "metadata": {}
    },
    {
      "cell_type": "code",
      "source": "def gauss(n):\n    return (n*(n+1))/2\n\ngauss(100) == sum(range(101))",
      "metadata": {
        "trusted": true
      },
      "execution_count": 2,
      "outputs": [
        {
          "execution_count": 2,
          "output_type": "execute_result",
          "data": {
            "text/plain": "True"
          },
          "metadata": {}
        }
      ]
    },
    {
      "cell_type": "markdown",
      "source": "***",
      "metadata": {}
    },
    {
      "cell_type": "markdown",
      "source": "- one\n- two\n- three",
      "metadata": {}
    },
    {
      "cell_type": "markdown",
      "source": "|**Markdown**|**Less**|**Pretty**|\n|------|------|------|\n|1|2|3|",
      "metadata": {}
    },
    {
      "cell_type": "markdown",
      "source": ">_“Your time is limited, so don’t waste it living someone else’s life. Don’t be trapped by dogma – which is living with the results of other people’s thinking.” – Steve Jobs",
      "metadata": {}
    }
  ]
}